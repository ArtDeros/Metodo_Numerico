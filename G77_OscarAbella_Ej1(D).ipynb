{
  "nbformat": 4,
  "nbformat_minor": 0,
  "metadata": {
    "colab": {
      "provenance": [],
      "authorship_tag": "ABX9TyNxk+QUYTZeqjaEvSJ19WcD",
      "include_colab_link": true
    },
    "kernelspec": {
      "name": "python3",
      "display_name": "Python 3"
    },
    "language_info": {
      "name": "python"
    }
  },
  "cells": [
    {
      "cell_type": "markdown",
      "metadata": {
        "id": "view-in-github",
        "colab_type": "text"
      },
      "source": [
        "<a href=\"https://colab.research.google.com/github/ArtDeros/Metodo_Numerico/blob/main/G77_OscarAbella_Ej1(D).ipynb\" target=\"_parent\"><img src=\"https://colab.research.google.com/assets/colab-badge.svg\" alt=\"Open In Colab\"/></a>"
      ]
    },
    {
      "cell_type": "code",
      "execution_count": null,
      "metadata": {
        "id": "6v1PQ4wZwGK3"
      },
      "outputs": [],
      "source": []
    },
    {
      "cell_type": "markdown",
      "source": [
        "                     Tarea 3 - Cálculo y E.D.O Numéricas\n",
        "\n",
        "                                 \n",
        "                                 \n",
        "                                 \n",
        "                       Presentado por: Oscar Abella\n",
        "\n",
        "                                   Grupo: 77\n",
        "\n",
        "                               Código: 80208570\n",
        "\n",
        "\n",
        "\n",
        "                       Presentado a: Juan Sebastian Rodriguez\n",
        "\n",
        "\n",
        "\n",
        "\n",
        "                                \n",
        "                   Universidad Nacional Abierta y a Distancia – UNAD\n",
        "                              Ingernieria de sistemas\n",
        "                                Metodos Numericos\n",
        "                                 Noviembre de 2022"
      ],
      "metadata": {
        "id": "vl5K-mWdwQma"
      }
    },
    {
      "cell_type": "markdown",
      "source": [
        "#Presentación del ejercicio en una celda markdown\n",
        "\n",
        "la interpolación polinómica es una técnica de interpolación de un conjunto de datos o de una función por un polinomio. Es decir, dado cierto número de puntos obtenidos por muestreo o a partir de un experimento se pretende encontrar un polinomio que pase por todos los puntos.\n",
        "\n",
        "Dados N+1 puntos x0, x1, ..., xN pertenecientes al intervalo [a,b], el polinomio de\n",
        "interpolación de grado menor o igual que N que pasa por esos puntos es único. Recordemos brevemente que la forma eficiente de evaluar un polinomio P(x):\n",
        "\n",
        "$$P(x) = a_nx^n + a_{n-1}x^{n-1} + ... + a_2x^2 + a_1x + a_0$$\n",
        "\n",
        "los polinomios de interpolación, que se llamarán de Newton, se calculan mediante un esquema recursivo:\n",
        "\n",
        "$$P(n) = P_{n-1}x + a_n(x-x_0)(x-x_1)(x-x_2)...(x-x_{n-1})$$\n",
        "\n",
        "Se define la matriz de Vandermonde como la transpuesta de la anterior.\n",
        "Este tipo de matrices aparece de manera natural cuando queremos ajustar m datos experimentales (αi, yi) a un polinomio en x de grado n − 1.\n",
        "\n",
        "$$y = \\sum_{k=0}^{n-1} c_kx^k = c_0 + c_1x + ... + c_{n-1}x^{n-1}$$"
      ],
      "metadata": {
        "id": "XeU4HpmpGNuW"
      }
    },
    {
      "cell_type": "code",
      "source": [
        "import numpy as np\n",
        "import matplotlib.pyplot as plt\n",
        "\n",
        "\n",
        "# Tablas inciciales\n",
        "x = [0, 1, 2, 3, 4, 5, 6, 8, 9, 10]\n",
        "y = [0, 0.84147, 0.90930, 0.14112, -0.75680, -0.95892, -0.27942, 0.98936, 0.41212, -0.54402]\n",
        "x_inter = 7"
      ],
      "metadata": {
        "id": "1QlA3876JYga"
      },
      "execution_count": null,
      "outputs": []
    },
    {
      "cell_type": "code",
      "source": [],
      "metadata": {
        "id": "GKZK29p7wqT5"
      },
      "execution_count": null,
      "outputs": []
    },
    {
      "cell_type": "markdown",
      "source": [
        "# Paso 2.1: Definir funcion de interpolacion de newton"
      ],
      "metadata": {
        "id": "81h1Sv99GdSl"
      }
    },
    {
      "cell_type": "code",
      "source": [
        "def newton(x, y, x_inter):\n",
        "  n= len(x)\n",
        "\n",
        "  dfd = [[None for x in range(n)] for x in range(n)]\n",
        "  y_int = [None for x in range(n)]\n",
        "\n",
        "  for i in range(n):\n",
        "    dfd[i][0] = y[i]\n",
        "\n",
        "  for j in range(1, n):\n",
        "    for i in range(n - j):\n",
        "      dfd[i][j] = (dfd[i + 1][j - 1] - dfd[i][j - 1]) / (x[i + j] - x[i])\n",
        "\n",
        "  y_int[0] = dfd[0][0]\n",
        "  xterm = 1\n",
        "\n",
        "  for k in range(1, n):\n",
        "    xterm = xterm * (x_inter - x[k - 1])\n",
        "    y_inter = y_int[k - 1] + dfd[0][k] * xterm\n",
        "    y_int[k] = y_inter\n",
        "\n",
        "  return y_inter\n"
      ],
      "metadata": {
        "id": "6NLS8HasGkRw"
      },
      "execution_count": null,
      "outputs": []
    },
    {
      "cell_type": "markdown",
      "source": [
        "# Paso 3.1: se llama la función para interpolar"
      ],
      "metadata": {
        "id": "_IjvalA6Jl0M"
      }
    },
    {
      "cell_type": "code",
      "source": [
        "fxn = print(\"El valor de la interpolacion en 7 es: \",newton(x, y, x_inter))"
      ],
      "metadata": {
        "colab": {
          "base_uri": "https://localhost:8080/"
        },
        "id": "3GkzFxc0G86V",
        "outputId": "f810b922-16a8-473a-cf22-55798765f437"
      },
      "execution_count": null,
      "outputs": [
        {
          "output_type": "stream",
          "name": "stdout",
          "text": [
            "El valor de la interpolacion en 7 es:  0.6622251666666655\n"
          ]
        }
      ]
    },
    {
      "cell_type": "markdown",
      "source": [
        "#**Paso 2: encontrar el determinante de (A)**"
      ],
      "metadata": {
        "id": "lMKkZTQtHAxg"
      }
    },
    {
      "cell_type": "code",
      "source": [
        "determ = np.linalg.det(A)\n",
        "determ"
      ],
      "metadata": {
        "colab": {
          "base_uri": "https://localhost:8080/"
        },
        "id": "02kNZFfcHDrQ",
        "outputId": "69239bb6-bdcf-4cf5-d6e8-54dc17e4390b"
      },
      "execution_count": null,
      "outputs": [
        {
          "output_type": "execute_result",
          "data": {
            "text/plain": [
              "1354948102747529.0"
            ]
          },
          "metadata": {},
          "execution_count": 3
        }
      ]
    },
    {
      "cell_type": "markdown",
      "source": [
        "# Paso 4.1: Grafica del polinomio"
      ],
      "metadata": {
        "id": "DamKzMxeHIm-"
      }
    },
    {
      "cell_type": "code",
      "source": [
        "x_i = np.arange(min(x), max(x), 0.01)\n",
        "y_i = []\n",
        "\n",
        "for i in range(len(x_i)):\n",
        "  y_grafica = newton(x, y, x_i[i])\n",
        "  y_i.append(y_grafica)\n",
        "\n",
        "fxn = newton(x, y, x_inter)\n",
        "\n",
        "plt.scatter(x, y, color=\"blue\")\n",
        "plt.xlabel(\"x\")\n",
        "plt.ylabel(\"y\")\n",
        "plt.title(\"Interpolación de Newton\")\n",
        "plt.grid(True)\n",
        "plt.plot(x_i, y_i,'r')\n",
        "\n",
        "plt.scatter(x_inter, fxn, color=\"black\" )\n",
        "\n",
        "plt.show()"
      ],
      "metadata": {
        "colab": {
          "base_uri": "https://localhost:8080/",
          "height": 295
        },
        "id": "k01_tDEWHOXg",
        "outputId": "befdc2dd-3545-4fbc-a735-7dc4c45e3ca4"
      },
      "execution_count": null,
      "outputs": [
        {
          "output_type": "display_data",
          "data": {
            "text/plain": [
              "<Figure size 432x288 with 1 Axes>"
            ],
            "image/png": "[encoded data removed]"
          },
          "metadata": {
            "needs_background": "light"
          }
        }
      ]
    },
    {
      "cell_type": "markdown",
      "source": [
        "#Paso 2.2: Definimos la interpolacion de lagrange"
      ],
      "metadata": {
        "id": "aLKtv2uQHVIg"
      }
    },
    {
      "cell_type": "code",
      "source": [
        "def Lagrange(x, y, x_inter):\n",
        "\n",
        "  n = len(x)\n",
        "  suma = 0\n",
        "\n",
        "  for i in range(n):\n",
        "    producto = y[i]\n",
        "    for j in range(n):\n",
        "      if i != j:\n",
        "        producto = producto * (x_inter -  x[j]) / (x[i] - x[j])\n",
        "    suma = suma + producto\n",
        "\n",
        "  y_inter = suma\n",
        "  return y_inter\n"
      ],
      "metadata": {
        "id": "Ev8gSDDlHYpe"
      },
      "execution_count": null,
      "outputs": []
    },
    {
      "cell_type": "markdown",
      "source": [
        "#Paso 3.2: Se llama la funcion"
      ],
      "metadata": {
        "id": "HQBUYUUJJ7ei"
      }
    },
    {
      "cell_type": "code",
      "source": [
        "fxl = print(\"El valor de la interpolacion por el metodo LAGRANGE en 7 es: \",Lagrange(x, y, x_inter))"
      ],
      "metadata": {
        "colab": {
          "base_uri": "https://localhost:8080/"
        },
        "id": "z_aD3r4LHiql",
        "outputId": "9d2ae9c3-c278-4ab6-ec6d-46d302b045bb"
      },
      "execution_count": null,
      "outputs": [
        {
          "output_type": "stream",
          "name": "stdout",
          "text": [
            "El valor de la interpolacion por el metodo LAGRANGE en 7 es:  0.6622251666666668\n"
          ]
        }
      ]
    },
    {
      "cell_type": "markdown",
      "source": [
        "# Paso 4.2: Grafica del polinomio"
      ],
      "metadata": {
        "id": "BH8MwqwHHm1F"
      }
    },
    {
      "cell_type": "code",
      "source": [
        "x_v = np.arange(min(x), max(x), 0.01)\n",
        "y_v = []\n",
        "\n",
        "for i in range(len(x_v)):\n",
        "  y_graficaL = Lagrange(x, y, x_v[i])\n",
        "  y_v.append(y_graficaL)\n",
        "\n",
        "fxl = Lagrange(x, y, x_inter)\n",
        "\n",
        "plt.scatter(x, y, color=\"blue\")\n",
        "plt.xlabel(\"x\")\n",
        "plt.ylabel(\"y\")\n",
        "plt.title(\"Interpolación de Lagrange\")\n",
        "plt.grid(True)\n",
        "plt.plot(x_v, y_v,'r')\n",
        "\n",
        "plt.scatter(x_inter, fxl, color=\"black\" )\n",
        "\n",
        "plt.show()"
      ],
      "metadata": {
        "colab": {
          "base_uri": "https://localhost:8080/",
          "height": 295
        },
        "id": "QKYR8gUIHoCK",
        "outputId": "2c10f34d-ac12-4db4-d647-bf1aef9cf013"
      },
      "execution_count": null,
      "outputs": [
        {
          "output_type": "display_data",
          "data": {
            "text/plain": [
              "<Figure size 432x288 with 1 Axes>"
            ],
            "image/png": "[encoded data removed]"
          },
          "metadata": {
            "needs_background": "light"
          }
        }
      ]
    },
    {
      "cell_type": "markdown",
      "source": [
        "*ANALISIS DE RESULTADOS**\n",
        "\n",
        "con  los dos metodos de interpolacion podemos llegar a un resultado satisfactorio de la interpolacion, lo que los diferencia es la caltidad de pasos para llegar a dichos resultados, lo que hace que lagrange sea un mtodo mas efectivo a la hora de realizar dichos calculos\n"
      ],
      "metadata": {
        "id": "FdNdALWdHs2S"
      }
    },
    {
      "cell_type": "markdown",
      "source": [
        "#**Referencias**\n",
        "\n",
        "Nieves, A. (2015). Métodos numéricos: aplicados a la ingeniería. Grupo Editorial Patria. (pp. 627 – 632).\n",
        "\n",
        "**Videos de apoyo:**\n",
        "\n",
        "https://www.youtube.com/watch?v=yRK7FMiGNqg\n",
        "\n",
        "https://www.youtube.com/watch?v=mOIojg1u_oA\n",
        "\n",
        "**Demas referencias:**\n",
        "\n",
        "\n",
        "Posada Restrepo, J. A. Arévalo Ovalle, D. & Posada Restrepo, J. A. (2017). Matemáticas para ingeniería: Métodos Numéricos con Python. Editorial Politécnico Grancolombiano. (pp. 67 – 82) https://elibro-net.bibliotecavirtual.unad.edu.co/es/ereader/unad/71002?page=67\n",
        "Regresión lineal\n",
        "\n",
        "Nieves, A. (2015). Métodos numéricos: aplicados a la ingeniería. Grupo Editorial Patria. (pp. 412 – 424). https://elibro-net.bibliotecavirtual.unad.edu.co/es/ereader/unad/39455?page=429\n",
        "Posada Restrepo, J. A. Arévalo Ovalle, D. & Posada Restrepo, J. A. (2017). Matemáticas para ingeniería: Métodos Numéricos con Python. Editorial Politécnico Grancolombiano. (pp. 50 – 55) https://elibro-net.bibliotecavirtual.unad.edu.co/es/ereader/unad/71002?page=51\n",
        "Venegas, H (2022). Ajuste de curvas. UNAD. [OVI] https://repository.unad.edu.co/handle/10596/49434\n",
        "Interpolación\n"
      ],
      "metadata": {
        "id": "NxCG_WhwILdk"
      }
    }
  ]
}